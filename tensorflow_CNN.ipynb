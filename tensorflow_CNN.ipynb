{
 "cells": [
  {
   "cell_type": "code",
   "execution_count": 1,
   "id": "bf118b8c",
   "metadata": {},
   "outputs": [],
   "source": [
    "import tensorflow as tf"
   ]
  },
  {
   "cell_type": "code",
   "execution_count": null,
   "id": "6f4aeaa1",
   "metadata": {},
   "outputs": [],
   "source": []
  },
  {
   "cell_type": "markdown",
   "id": "1d1ffe29",
   "metadata": {},
   "source": [
    "Image is in the form `(width, height, Colour Channels)`"
   ]
  },
  {
   "cell_type": "markdown",
   "id": "7936f1e8",
   "metadata": {},
   "source": [
    "### Typical Architecture of a Convolutional Neural Network\n",
    "\n",
    "\n",
    "- Input Image->Target Images we'd like to discover patterns in\n",
    "- Input Layer->Takes in target images and preprocesses them for further layers - `input_shape=[batch_size,image_height, image_width, color_channels]`\n",
    "- Convolutional Layer->Extracts/learns the most important features from target images -> Multiple, can create with `tf.keras.layers.ConvXD`\n",
    "- Hidden Activation -> adds non-linearity to learned features(non-straight lines) -> Usually ReLU `tf.keras.activations.relu`\n",
    "- Pooling layer-> Reduces the dimensionality of learned image features -> Average"
   ]
  },
  {
   "cell_type": "markdown",
   "id": "12cf10fe",
   "metadata": {},
   "source": []
  }
 ],
 "metadata": {
  "kernelspec": {
   "display_name": "base",
   "language": "python",
   "name": "python3"
  },
  "language_info": {
   "codemirror_mode": {
    "name": "ipython",
    "version": 3
   },
   "file_extension": ".py",
   "mimetype": "text/x-python",
   "name": "python",
   "nbconvert_exporter": "python",
   "pygments_lexer": "ipython3",
   "version": "3.9.19"
  }
 },
 "nbformat": 4,
 "nbformat_minor": 5
}
