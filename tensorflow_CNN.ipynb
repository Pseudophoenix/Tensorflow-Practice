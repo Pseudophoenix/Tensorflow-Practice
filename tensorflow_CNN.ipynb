{
 "cells": [
  {
   "cell_type": "code",
   "execution_count": 1,
   "id": "bf118b8c",
   "metadata": {},
   "outputs": [],
   "source": [
    "import tensorflow as tf"
   ]
  },
  {
   "cell_type": "code",
   "execution_count": null,
   "id": "6f4aeaa1",
   "metadata": {},
   "outputs": [],
   "source": []
  },
  {
   "cell_type": "markdown",
   "id": "1d1ffe29",
   "metadata": {},
   "source": [
    "Image is in the form `(width, height, Colour Channels)`"
   ]
  },
  {
   "cell_type": "markdown",
   "id": "7936f1e8",
   "metadata": {},
   "source": [
    "### Typical Architecture of a Convolutional Neural Network\n",
    "\n",
    "\n",
    "- Input Image->Target Images we'd like to discover patterns in\n",
    "- Input Layer->Takes in target images and preprocesses them for further layers - `input_shape=[batch_size,image_height, image_width, color_channels]`\n",
    "- Convolutional Layer->Extracts/learns the most important features from target images -> Multiple, can create with `tf.keras.layers.ConvXD`\n",
    "- Hidden Activation -> adds non-linearity to learned features(non-straight lines) -> Usually ReLU `tf.keras.activations.relu`\n",
    "- Pooling layer-> Reduces the dimensionality of learned image features -> Average(`tf.keras.layers.AvgPool2D`) or Max(`tf.keras.layers.MaxPool2D`)\n",
    "- Fully connected layer-> Further refines learned features from convolution layers -> `tf.keras.layers.Dense`\n",
    "- Output layer->Takes learned features and outputs them in shape of targe labels-> `output_shape=[number_of_classes]\n",
    "- Output activation->Adds non-linearities to output layer -> `tf.keras.activations.sigmoid`(binary classification) or `tf.keras.activations.softmax`"
   ]
  },
  {
   "cell_type": "markdown",
   "id": "12cf10fe",
   "metadata": {},
   "source": []
  },
  {
   "cell_type": "code",
   "execution_count": 11,
   "id": "c7513093",
   "metadata": {},
   "outputs": [
    {
     "name": "stdout",
     "output_type": "stream",
     "text": [
      "Found 1500 images belonging to 2 classes.\n",
      "Found 500 images belonging to 2 classes.\n",
      "Epoch 1/5\n",
      "47/47 [==============================] - 19s 392ms/step - loss: 0.6011 - accuracy: 0.6560 - val_loss: 0.4451 - val_accuracy: 0.8040\n",
      "Epoch 2/5\n",
      "47/47 [==============================] - 17s 370ms/step - loss: 0.4607 - accuracy: 0.7860 - val_loss: 0.4066 - val_accuracy: 0.8340\n",
      "Epoch 3/5\n",
      "47/47 [==============================] - 17s 366ms/step - loss: 0.4328 - accuracy: 0.8053 - val_loss: 0.3651 - val_accuracy: 0.8460\n",
      "Epoch 4/5\n",
      "47/47 [==============================] - 17s 364ms/step - loss: 0.4018 - accuracy: 0.8320 - val_loss: 0.3635 - val_accuracy: 0.8660\n",
      "Epoch 5/5\n",
      "47/47 [==============================] - 19s 408ms/step - loss: 0.3626 - accuracy: 0.8453 - val_loss: 0.3299 - val_accuracy: 0.8700\n"
     ]
    }
   ],
   "source": [
    "import tensorflow as tf\n",
    "from tensorflow.keras.preprocessing.image import ImageDataGenerator\n",
    "tf.random.set_seed(42)\n",
    "\n",
    "train_datagen=ImageDataGenerator(rescale=1./255)\n",
    "valid_datagen=ImageDataGenerator(rescale=1./255)\n",
    "\n",
    "train_dir=\"pizza_steak/train/\"\n",
    "test_dir=\"pizza_steak/test/\"\n",
    "\n",
    "train_data=train_datagen.flow_from_directory(train_dir,\n",
    "            batch_size=32,\n",
    "            target_size=(224,224),\n",
    "            class_mode=\"binary\",\n",
    "            seed=42\n",
    "            )\n",
    "valid_data=valid_datagen.flow_from_directory(test_dir,batch_size=32,\n",
    "                                           target_size=(224,224),class_mode=\"binary\",seed=42)\n",
    "\n",
    "model_1=tf.keras.models.Sequential([\n",
    "    tf.keras.layers.Conv2D(filters=10,\n",
    "                           kernel_size=3,\n",
    "                           activation=\"relu\",\n",
    "                           input_shape=(224,224,3)),\n",
    "    tf.keras.layers.Conv2D(10,3,activation=\"relu\"),\n",
    "    tf.keras.layers.MaxPool2D(pool_size=2,padding=\"valid\"),\n",
    "    tf.keras.layers.Conv2D(10,3,activation=\"relu\"), \n",
    "    tf.keras.layers.Conv2D(10,3,activation=\"relu\"),\n",
    "    tf.keras.layers.MaxPool2D(2),\n",
    "    tf.keras.layers.Flatten(),\n",
    "    tf.keras.layers.Dense(1,activation=\"sigmoid\")\n",
    "])\n",
    "model_1.compile(loss='binary_crossentropy',\n",
    "                optimizer=tf.keras.optimizers.Adam(),\n",
    "                metrics=['accuracy'])\n",
    "history_1=model_1.fit(train_data,\n",
    "                      epochs=5,\n",
    "                      steps_per_epoch=len(train_data),\n",
    "                      validation_data=valid_data,\n",
    "                      validation_steps=len(valid_data))"
   ]
  },
  {
   "cell_type": "code",
   "execution_count": 12,
   "id": "44799be2",
   "metadata": {},
   "outputs": [
    {
     "data": {
      "text/plain": [
       "False"
      ]
     },
     "execution_count": 12,
     "metadata": {},
     "output_type": "execute_result"
    }
   ],
   "source": [
    "import torch\n",
    "torch.cuda.is_available()"
   ]
  },
  {
   "cell_type": "code",
   "execution_count": 13,
   "id": "c1009314",
   "metadata": {},
   "outputs": [
    {
     "name": "stdout",
     "output_type": "stream",
     "text": [
      "Model: \"sequential_1\"\n",
      "_________________________________________________________________\n",
      " Layer (type)                Output Shape              Param #   \n",
      "=================================================================\n",
      " conv2d_4 (Conv2D)           (None, 222, 222, 10)      280       \n",
      "                                                                 \n",
      " conv2d_5 (Conv2D)           (None, 220, 220, 10)      910       \n",
      "                                                                 \n",
      " max_pooling2d_2 (MaxPoolin  (None, 110, 110, 10)      0         \n",
      " g2D)                                                            \n",
      "                                                                 \n",
      " conv2d_6 (Conv2D)           (None, 108, 108, 10)      910       \n",
      "                                                                 \n",
      " conv2d_7 (Conv2D)           (None, 106, 106, 10)      910       \n",
      "                                                                 \n",
      " max_pooling2d_3 (MaxPoolin  (None, 53, 53, 10)        0         \n",
      " g2D)                                                            \n",
      "                                                                 \n",
      " flatten_1 (Flatten)         (None, 28090)             0         \n",
      "                                                                 \n",
      " dense_1 (Dense)             (None, 1)                 28091     \n",
      "                                                                 \n",
      "=================================================================\n",
      "Total params: 31101 (121.49 KB)\n",
      "Trainable params: 31101 (121.49 KB)\n",
      "Non-trainable params: 0 (0.00 Byte)\n",
      "_________________________________________________________________\n"
     ]
    }
   ],
   "source": [
    "model_1.summary()"
   ]
  },
  {
   "cell_type": "code",
   "execution_count": 14,
   "id": "3c0cf76d",
   "metadata": {},
   "outputs": [
    {
     "name": "stdout",
     "output_type": "stream",
     "text": [
      "Num GPUs Available:  0\n",
      "WARNING:tensorflow:From C:\\Users\\alok4\\AppData\\Local\\Temp\\ipykernel_22372\\2228620727.py:3: is_gpu_available (from tensorflow.python.framework.test_util) is deprecated and will be removed in a future version.\n",
      "Instructions for updating:\n",
      "Use `tf.config.list_physical_devices('GPU')` instead.\n"
     ]
    },
    {
     "data": {
      "text/plain": [
       "False"
      ]
     },
     "execution_count": 14,
     "metadata": {},
     "output_type": "execute_result"
    }
   ],
   "source": [
    "import tensorflow as tf\n",
    "print(\"Num GPUs Available: \", len(tf.config.list_physical_devices('GPU')))\n",
    "tf.test.is_gpu_available()  # Should return True"
   ]
  },
  {
   "cell_type": "code",
   "execution_count": 16,
   "id": "566f6248",
   "metadata": {},
   "outputs": [
    {
     "name": "stdout",
     "output_type": "stream",
     "text": [
      "False\n"
     ]
    }
   ],
   "source": [
    "import torch\n",
    "print(torch.cuda.is_available())  # Should return True\n",
    "# print(torch.cuda.get_device_name(0))  # Prints your GPU model"
   ]
  },
  {
   "cell_type": "code",
   "execution_count": 21,
   "id": "3949bae7",
   "metadata": {},
   "outputs": [
    {
     "name": "stdout",
     "output_type": "stream",
     "text": [
      "^C\n"
     ]
    }
   ],
   "source": [
    "!nvidia-smi -l 1 "
   ]
  },
  {
   "cell_type": "code",
   "execution_count": null,
   "id": "be5e4b38",
   "metadata": {},
   "outputs": [
    {
     "name": "stdout",
     "output_type": "stream",
     "text": [
      "Epoch 1/5\n",
      "47/47 [==============================] - 5s 105ms/step - loss: 0.6940 - accuracy: 0.4973 - val_loss: 0.6932 - val_accuracy: 0.5000\n",
      "Epoch 2/5\n",
      "47/47 [==============================] - ETA: 0s - loss: 0.6932 - accuracy: 0.5000"
     ]
    }
   ],
   "source": [
    "tf.random.set_seed(42)\n",
    "model_2=tf.keras.Sequential([\n",
    "    tf.keras.layers.Flatten(input_shape=(224,224,3)),\n",
    "    tf.keras.layers.Dense(4,activation=\"relu\"),\n",
    "    tf.keras.layers.Dense(4,activation=\"relu\"),\n",
    "    tf.keras.layers.Dense(1,activation=\"sigmoid\")\n",
    "])\n",
    "model_2.compile(loss=\"binary_crossentropy\",\n",
    "                optimizer=tf.keras.optimizers.Adam(),\n",
    "                metrics=['accuracy'])\n",
    "model_2.fit(train_data,\n",
    "            epochs=5,\n",
    "            steps_per_epoch=len(train_data),\n",
    "            validation_data=valid_data,\n",
    "            validation_steps=len(valid_data))"
   ]
  },
  {
   "cell_type": "code",
   "execution_count": null,
   "id": "1b317993",
   "metadata": {},
   "outputs": [],
   "source": []
  }
 ],
 "metadata": {
  "kernelspec": {
   "display_name": "base",
   "language": "python",
   "name": "python3"
  },
  "language_info": {
   "codemirror_mode": {
    "name": "ipython",
    "version": 3
   },
   "file_extension": ".py",
   "mimetype": "text/x-python",
   "name": "python",
   "nbconvert_exporter": "python",
   "pygments_lexer": "ipython3",
   "version": "3.9.19"
  }
 },
 "nbformat": 4,
 "nbformat_minor": 5
}
