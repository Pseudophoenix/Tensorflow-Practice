{
 "cells": [
  {
   "cell_type": "code",
   "execution_count": 1,
   "id": "bf118b8c",
   "metadata": {},
   "outputs": [],
   "source": [
    "import tensorflow as tf"
   ]
  },
  {
   "cell_type": "code",
   "execution_count": null,
   "id": "6f4aeaa1",
   "metadata": {},
   "outputs": [],
   "source": []
  },
  {
   "cell_type": "markdown",
   "id": "1d1ffe29",
   "metadata": {},
   "source": [
    "Image is in the form `(width, height, Colour Channels)`"
   ]
  },
  {
   "cell_type": "markdown",
   "id": "7936f1e8",
   "metadata": {},
   "source": [
    "### Typical Architecture of a Convolutional Neural Network\n",
    "\n",
    "\n",
    "- Input Image->Target Images we'd like to discover patterns in\n",
    "- Input Layer->Takes in target images and preprocesses them for further layers - `input_shape=[batch_size,image_height, image_width, color_channels]`\n",
    "- Convolutional Layer->Extracts/learns the most important features from target images -> Multiple, can create with `tf.keras.layers.ConvXD`\n",
    "- Hidden Activation -> adds non-linearity to learned features(non-straight lines) -> Usually ReLU `tf.keras.activations.relu`\n",
    "- Pooling layer-> Reduces the dimensionality of learned image features -> Average(`tf.keras.layers.AvgPool2D`) or Max(`tf.keras.layers.MaxPool2D`)\n",
    "- Fully connected layer-> Further refines learned features from convolution layers -> `tf.keras.layers.Dense`\n",
    "- Output layer->Takes learned features and outputs them in shape of targe labels-> `output_shape=[number_of_classes]\n",
    "- Output activation->Adds non-linearities to output layer -> `tf.keras.activations.sigmoid`(binary classification) or `tf.keras.activations.softmax`"
   ]
  },
  {
   "cell_type": "markdown",
   "id": "12cf10fe",
   "metadata": {},
   "source": []
  },
  {
   "cell_type": "code",
   "execution_count": null,
   "id": "c7513093",
   "metadata": {},
   "outputs": [
    {
     "name": "stdout",
     "output_type": "stream",
     "text": [
      "Found 1500 images belonging to 2 classes.\n",
      "Found 500 images belonging to 2 classes.\n",
      "Epoch 1/5\n",
      "47/47 [==============================] - 19s 392ms/step - loss: 0.6011 - accuracy: 0.6560 - val_loss: 0.4451 - val_accuracy: 0.8040\n",
      "Epoch 2/5\n",
      "47/47 [==============================] - 17s 370ms/step - loss: 0.4607 - accuracy: 0.7860 - val_loss: 0.4066 - val_accuracy: 0.8340\n",
      "Epoch 3/5\n",
      "47/47 [==============================] - ETA: 0s - loss: 0.4328 - accuracy: 0.8053"
     ]
    }
   ],
   "source": [
    "import tensorflow as tf\n",
    "from tensorflow.keras.preprocessing.image import ImageDataGenerator\n",
    "tf.random.set_seed(42)\n",
    "\n",
    "train_datagen=ImageDataGenerator(rescale=1./255)\n",
    "valid_datagen=ImageDataGenerator(rescale=1./255)\n",
    "\n",
    "train_dir=\"pizza_steak/train/\"\n",
    "test_dir=\"pizza_steak/test/\"\n",
    "\n",
    "train_data=train_datagen.flow_from_directory(train_dir,\n",
    "            batch_size=32,\n",
    "            target_size=(224,224),\n",
    "            class_mode=\"binary\",\n",
    "            seed=42\n",
    "            )\n",
    "valid_data=valid_datagen.flow_from_directory(test_dir,batch_size=32,\n",
    "                                           target_size=(224,224),class_mode=\"binary\",seed=42)\n",
    "\n",
    "model_1=tf.keras.models.Sequential([\n",
    "    tf.keras.layers.Conv2D(filters=10,\n",
    "                           kernel_size=3,\n",
    "                           activation=\"relu\",\n",
    "                           input_shape=(224,224,3)),\n",
    "    tf.keras.layers.Conv2D(10,3,activation=\"relu\"),\n",
    "    tf.keras.layers.MaxPool2D(pool_size=2,padding=\"valid\"),\n",
    "    tf.keras.layers.Conv2D(10,3,activation=\"relu\"), \n",
    "    tf.keras.layers.Conv2D(10,3,activation=\"relu\"),\n",
    "    tf.keras.layers.MaxPool2D(2),\n",
    "    tf.keras.layers.Flatten(),\n",
    "    tf.keras.layers.Dense(1,activation=\"sigmoid\")\n",
    "])\n",
    "model_1.compile(loss='binary_crossentropy',\n",
    "                optimizer=tf.keras.optimizers.Adam(),\n",
    "                metrics=['accuracy'])\n",
    "history_1=model_1.fit(train_data,\n",
    "                      epochs=5,\n",
    "                      steps_per_epoch=len(train_data),\n",
    "                      validation_data=valid_data,\n",
    "                      validation_steps=len(valid_data))"
   ]
  },
  {
   "cell_type": "code",
   "execution_count": null,
   "id": "44799be2",
   "metadata": {},
   "outputs": [],
   "source": []
  }
 ],
 "metadata": {
  "kernelspec": {
   "display_name": "base",
   "language": "python",
   "name": "python3"
  },
  "language_info": {
   "codemirror_mode": {
    "name": "ipython",
    "version": 3
   },
   "file_extension": ".py",
   "mimetype": "text/x-python",
   "name": "python",
   "nbconvert_exporter": "python",
   "pygments_lexer": "ipython3",
   "version": "3.9.19"
  }
 },
 "nbformat": 4,
 "nbformat_minor": 5
}
