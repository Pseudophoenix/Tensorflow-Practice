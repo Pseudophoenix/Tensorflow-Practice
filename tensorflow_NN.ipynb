{
 "cells": [
  {
   "cell_type": "markdown",
   "id": "e27b89a1",
   "metadata": {},
   "source": [
    "### Steps in Modelling\n",
    "\n",
    "1. Creating a model\n",
    "2. Compiling a model\n",
    "   1. Defining a loss function\n",
    "   2. Setting up an optimizer\n",
    "   3. Creating evaluation metrics\n",
    "3. Fitting a model\n",
    "\n",
    "* Evaluating a model\n",
    "    - Visualizing the model\n",
    "    - Looking at training curves\n",
    "    - Compare predictions to the ground truth\n",
    "\n",
    "- Saving a model\n",
    "- Loading a model"
   ]
  },
  {
   "cell_type": "markdown",
   "id": "bfbbe6e3",
   "metadata": {},
   "source": [
    "### Typical architecture of regression neural network\n",
    "\n",
    "\n",
    "- Input layer shape\n",
    "- Hidden layer\n",
    "- Neuron per hidden layer\n",
    "- Output layer shape\n",
    "- Hidden activation\n",
    "- Output activation\n",
    "- Loss function\n",
    "- Optimizer"
   ]
  },
  {
   "cell_type": "code",
   "execution_count": null,
   "id": "b91d9c37",
   "metadata": {},
   "outputs": [],
   "source": []
  }
 ],
 "metadata": {
  "language_info": {
   "name": "python"
  }
 },
 "nbformat": 4,
 "nbformat_minor": 5
}
