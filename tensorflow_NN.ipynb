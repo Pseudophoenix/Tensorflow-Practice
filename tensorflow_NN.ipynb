{
 "cells": [
  {
   "cell_type": "code",
   "execution_count": 6,
   "id": "38d9d537",
   "metadata": {},
   "outputs": [],
   "source": [
    "import tensorflow as tf"
   ]
  },
  {
   "cell_type": "markdown",
   "id": "e27b89a1",
   "metadata": {},
   "source": [
    "### Steps in Modelling\n",
    "\n",
    "1. Creating a model\n",
    "2. Compiling a model\n",
    "   1. Defining a loss function\n",
    "   2. Setting up an optimizer\n",
    "   3. Creating evaluation metrics\n",
    "3. Fitting a model\n",
    "\n",
    "* Evaluating a model\n",
    "    - Visualizing the model\n",
    "    - Looking at training curves\n",
    "    - Compare predictions to the ground truth\n",
    "\n",
    "- Saving a model\n",
    "- Loading a model"
   ]
  },
  {
   "cell_type": "markdown",
   "id": "bfbbe6e3",
   "metadata": {},
   "source": [
    "### Typical architecture of regression neural network\n",
    "\n",
    "\n",
    "- Input layer shape - same as shape\n",
    "- Hidden layer - min=1, max=unlimited\n",
    "- Neuron per hidden layer - generally 10 to 100\n",
    "- Output layer shape - same shape as desired prediction shape\n",
    "- Hidden activation - Usually ReLU(rectified linear unit)\n",
    "- Output activation - Nonne, ReLU, logistic/tanh\n",
    "- Loss function - MSE, MAE, Huber(combination of MSE and MAE)\n",
    "- Optimizer - SGD, Adam"
   ]
  },
  {
   "cell_type": "markdown",
   "id": "8c2c4ee5",
   "metadata": {},
   "source": [
    "### Creating data to view and fit"
   ]
  },
  {
   "cell_type": "code",
   "execution_count": 14,
   "id": "b91d9c37",
   "metadata": {},
   "outputs": [
    {
     "data": {
      "text/plain": [
       "<matplotlib.collections.PathCollection at 0x2649c1d4280>"
      ]
     },
     "execution_count": 14,
     "metadata": {},
     "output_type": "execute_result"
    },
    {
     "data": {
      "image/png": "[encoded data removed]",
      "text/plain": [
       "<Figure size 640x480 with 1 Axes>"
      ]
     },
     "metadata": {},
     "output_type": "display_data"
    }
   ],
   "source": [
    "import numpy as np\n",
    "import matplotlib.pyplot as plt\n",
    "X=np.array([-7.0,-4.0,-1.0,2.0,5.0,8.0,11.0,14.0])\n",
    "# Create labels\n",
    "y = np.array([3.0, 6.0, 9.0, 12.0, 15.0, 18.0, 21.0, 24.0])\n",
    "\n",
    "# X=np.array([-7.0,-4.0,-1.5,3.0,6.0,7.2,11.3,14.0])\n",
    "# # Create labels\n",
    "# y = np.array([3.0, 6.0, 19.0, 22.0, 15.0, 18.0, 21.0, 24.0])\n",
    "plt.scatter(X,y)"
   ]
  },
  {
   "cell_type": "markdown",
   "id": "283b60c5",
   "metadata": {},
   "source": [
    "### Input and Output shapes\n"
   ]
  },
  {
   "cell_type": "markdown",
   "id": "853dbd88",
   "metadata": {},
   "source": [
    "### Steps in modelling with Tensorflow\n",
    "\n",
    "1. Creating a model-piece together the layers of a neural network (using the Functional or Sequential API) or import a previously build model(known as transfer learning).\n",
    "2. Compiling a model-defining how a model's performance should be measured (loss/metrics) as well as definig how it should improve(optimizer).\n",
    "3. Fitting a model-letting the model try to find patterns in the data."
   ]
  },
  {
   "cell_type": "code",
   "execution_count": 40,
   "id": "7664347a",
   "metadata": {},
   "outputs": [
    {
     "name": "stdout",
     "output_type": "stream",
     "text": [
      "Epoch 1/5\n",
      "1/1 [==============================] - 0s 148ms/step - loss: 15.0748 - mae: 15.0748\n",
      "Epoch 2/5\n",
      "1/1 [==============================] - 0s 3ms/step - loss: 14.8586 - mae: 14.8586\n",
      "Epoch 3/5\n",
      "1/1 [==============================] - 0s 3ms/step - loss: 14.7261 - mae: 14.7261\n",
      "Epoch 4/5\n",
      "1/1 [==============================] - 0s 3ms/step - loss: 14.5936 - mae: 14.5936\n",
      "Epoch 5/5\n",
      "1/1 [==============================] - 0s 4ms/step - loss: 14.4611 - mae: 14.4611\n"
     ]
    },
    {
     "data": {
      "text/plain": [
       "<keras.src.callbacks.History at 0x2649f025040>"
      ]
     },
     "execution_count": 40,
     "metadata": {},
     "output_type": "execute_result"
    }
   ],
   "source": [
    "tf.random.set_seed(42)\n",
    "model=tf.keras.Sequential([\n",
    "    tf.keras.layers.Dense(1),\n",
    "])\n",
    "model.compile(loss=tf.keras.losses.mae,\n",
    "              optimizer=tf.keras.optimizers.SGD(),\n",
    "              metrics=[\"mae\"])\n",
    "model.fit(tf.expand_dims(X,axis=-1),y,epochs=5)"
   ]
  },
  {
   "cell_type": "code",
   "execution_count": 42,
   "id": "a6c088e6",
   "metadata": {},
   "outputs": [
    {
     "data": {
      "text/plain": [
       "(array([-7., -4., -1.,  2.,  5.,  8., 11., 14.]),\n",
       " array([ 3.,  6.,  9., 12., 15., 18., 21., 24.]))"
      ]
     },
     "execution_count": 42,
     "metadata": {},
     "output_type": "execute_result"
    }
   ],
   "source": [
    "X,y"
   ]
  },
  {
   "cell_type": "code",
   "execution_count": 44,
   "id": "ef46300e",
   "metadata": {},
   "outputs": [
    {
     "name": "stdout",
     "output_type": "stream",
     "text": [
      "1/1 [==============================] - 0s 16ms/step\n",
      "1/1 [==============================] - 0s 31ms/step\n"
     ]
    },
    {
     "data": {
      "text/plain": [
       "(array([[ 1.7997364 ],\n",
       "        [ 1.0487779 ],\n",
       "        [ 0.2978195 ],\n",
       "        [-0.45313895],\n",
       "        [-1.2040974 ],\n",
       "        [-1.9550558 ],\n",
       "        [-2.7060144 ],\n",
       "        [-3.4569728 ]], dtype=float32),\n",
       " array([[-4.207931]], dtype=float32))"
      ]
     },
     "execution_count": 44,
     "metadata": {},
     "output_type": "execute_result"
    }
   ],
   "source": [
    "model.predict(X),model.predict([17.0])"
   ]
  },
  {
   "cell_type": "markdown",
   "id": "c4af91f0",
   "metadata": {},
   "source": [
    "### Improving a model\n",
    "To improve our model, we alter almost every part of 3 steps we went through:\n",
    "1. Creating a model-`add more layers`, increase the `number of hidden units(also called neurons) within each layer`, change the `activation functions of each layer`.\n",
    "2. Compiling the model-choose `optimization function` or change the `learning rate` of the optimization function.\n",
    "3. Fitting a model-fit the model for more `epochs`(leave it training for longer) or on `more data`(give the model more examples to learn from).\n",
    "\n",
    "\n",
    "\n",
    "![various options you can use to improve a neural network model](https://raw.githubusercontent.com/mrdbourke/tensorflow-deep-learning/main/images/02-improving-a-model-from-model-perspective.png)\n",
    "\n",
    "Some of the most common include: increasing the number of layers (making the network deeper), increasing the number of hidden units (making the network wider) and changing the learning rate. Because these values are all human-changeable, they're referred to as [hyperparameters](https://en.wikipedia.org/wiki/Hyperparameter_(machine_learning)) and the practice of trying to find the best hyperparameters is referred to as [hyperparameter tuning](https://en.wikipedia.org/wiki/Hyperparameter_optimization).*\n"
   ]
  },
  {
   "cell_type": "markdown",
   "id": "415e24a8",
   "metadata": {},
   "source": [
    "### Training for longer - more epochs"
   ]
  },
  {
   "cell_type": "code",
   "execution_count": 69,
   "id": "91113579",
   "metadata": {},
   "outputs": [
    {
     "data": {
      "text/plain": [
       "<keras.src.callbacks.History at 0x264a05b18e0>"
      ]
     },
     "execution_count": 69,
     "metadata": {},
     "output_type": "execute_result"
    }
   ],
   "source": [
    "tf.random.set_seed(42)\n",
    "\n",
    "model=tf.keras.Sequential([\n",
    "    tf.keras.layers.Dense(1)\n",
    "])\n",
    "\n",
    "model.compile(loss=tf.keras.losses.mae,\n",
    "              optimizer=tf.keras.optimizers.SGD(),\n",
    "              metrics=['mae'])\n",
    "model.fit(tf.expand_dims(X,axis=-1),y,epochs=100,verbose=0)"
   ]
  },
  {
   "cell_type": "code",
   "execution_count": 46,
   "id": "a86ebbe8",
   "metadata": {},
   "outputs": [
    {
     "data": {
      "text/plain": [
       "(array([-7., -4., -1.,  2.,  5.,  8., 11., 14.]),\n",
       " array([ 3.,  6.,  9., 12., 15., 18., 21., 24.]))"
      ]
     },
     "execution_count": 46,
     "metadata": {},
     "output_type": "execute_result"
    }
   ],
   "source": [
    "X,y"
   ]
  },
  {
   "cell_type": "code",
   "execution_count": 47,
   "id": "dad6b27c",
   "metadata": {},
   "outputs": [
    {
     "name": "stdout",
     "output_type": "stream",
     "text": [
      "1/1 [==============================] - 0s 36ms/step\n",
      "1/1 [==============================] - 0s 28ms/step\n"
     ]
    },
    {
     "data": {
      "text/plain": [
       "(array([[-10.867907 ],\n",
       "        [ -5.827733 ],\n",
       "        [ -0.7875587],\n",
       "        [  4.252616 ],\n",
       "        [  9.292789 ],\n",
       "        [ 14.332964 ],\n",
       "        [ 19.373138 ],\n",
       "        [ 24.413313 ]], dtype=float32),\n",
       " array([[29.453487]], dtype=float32))"
      ]
     },
     "execution_count": 47,
     "metadata": {},
     "output_type": "execute_result"
    }
   ],
   "source": [
    "model.predict(X),model.predict([17.0])"
   ]
  },
  {
   "cell_type": "markdown",
   "id": "e48a194a",
   "metadata": {},
   "source": [
    "### Evaluating a model\n",
    "\n",
    "Typical workflow when building a neural network is:\n",
    "\n",
    "```\n",
    "Build a model->evaluate it->build(tweak) a model->evaluate it->build(tweak) a model->evaluate it....\n",
    "```\n",
    "\n",
    "*Evaluation means visualization*\n",
    "\n",
    "Viualize:\n",
    "1. The data\n",
    "2. The model itself\n",
    "3. The training of a model\n",
    "4. The predictions of a model\n",
    "   "
   ]
  },
  {
   "cell_type": "markdown",
   "id": "dc63368d",
   "metadata": {},
   "source": [
    "### Visualizing the model"
   ]
  },
  {
   "cell_type": "code",
   "execution_count": null,
   "id": "baa85881",
   "metadata": {},
   "outputs": [],
   "source": [
    "tf.random.set_seed(42)\n",
    "model=tf.keras.Sequential([\n",
    "    tf.keras.layers.Dense(1)\n",
    "])\n",
    "\n",
    "model.compile(loss=tf.keras.losses.mae,\n",
    "              optimizer=tf.keras.optimizers.SGD(),\n",
    "              metrics=['mae'])\n"
   ]
  },
  {
   "cell_type": "markdown",
   "id": "2e26e0eb",
   "metadata": {},
   "source": [
    "If we try to visualize/summarize the model before building still it needs to know the `input_shape`.\n",
    "\n",
    "We haven't told it what input shape it should be expecting.\n",
    "We can let our model know the shape of our data using the `input_shape` parameter to the first layer (usually if `input_shape` is not defined, Keras tries to figure it out automatically)"
   ]
  },
  {
   "cell_type": "code",
   "execution_count": 62,
   "id": "323dc2e8",
   "metadata": {},
   "outputs": [],
   "source": [
    "tf.random.set_seed(42)\n",
    "model=tf.keras.Sequential([\n",
    "    tf.keras.layers.Dense(1,input_shape=[1])\n",
    "])\n",
    "\n",
    "model.compile(loss=tf.keras.losses.mae,\n",
    "              optimizer=tf.keras.optimizers.SGD(),\n",
    "              metrics=['mae'])\n"
   ]
  },
  {
   "cell_type": "code",
   "execution_count": 63,
   "id": "f72d9e6b",
   "metadata": {},
   "outputs": [
    {
     "name": "stdout",
     "output_type": "stream",
     "text": [
      "Model: \"sequential_20\"\n",
      "_________________________________________________________________\n",
      " Layer (type)                Output Shape              Param #   \n",
      "=================================================================\n",
      " dense_29 (Dense)            (None, 1)                 2         \n",
      "                                                                 \n",
      "=================================================================\n",
      "Total params: 2 (8.00 Byte)\n",
      "Trainable params: 2 (8.00 Byte)\n",
      "Non-trainable params: 0 (0.00 Byte)\n",
      "_________________________________________________________________\n"
     ]
    }
   ],
   "source": [
    "model.summary()"
   ]
  },
  {
   "cell_type": "markdown",
   "id": "48521564",
   "metadata": {},
   "source": [
    "Calling `summary()` on our model show us the layers it contains, the output shape and the number of parameters.\n"
   ]
  },
  {
   "cell_type": "code",
   "execution_count": 65,
   "id": "3f22b224",
   "metadata": {},
   "outputs": [
    {
     "data": {
      "text/plain": [
       "<keras.src.callbacks.History at 0x264a04078e0>"
      ]
     },
     "execution_count": 65,
     "metadata": {},
     "output_type": "execute_result"
    }
   ],
   "source": [
    "model.fit(X,y,epochs=100,verbose=0)"
   ]
  },
  {
   "cell_type": "code",
   "execution_count": 66,
   "id": "2dedb419",
   "metadata": {},
   "outputs": [
    {
     "name": "stdout",
     "output_type": "stream",
     "text": [
      "Model: \"sequential_20\"\n",
      "_________________________________________________________________\n",
      " Layer (type)                Output Shape              Param #   \n",
      "=================================================================\n",
      " dense_29 (Dense)            (None, 1)                 2         \n",
      "                                                                 \n",
      "=================================================================\n",
      "Total params: 2 (8.00 Byte)\n",
      "Trainable params: 2 (8.00 Byte)\n",
      "Non-trainable params: 0 (0.00 Byte)\n",
      "_________________________________________________________________\n"
     ]
    }
   ],
   "source": [
    "model.summary()"
   ]
  },
  {
   "cell_type": "markdown",
   "id": "e6f88cd0",
   "metadata": {},
   "source": [
    "Alonside summary, we can also view a 2D plot of the model using `plot_model()`"
   ]
  },
  {
   "cell_type": "code",
   "execution_count": null,
   "id": "1cfcf217",
   "metadata": {},
   "outputs": [],
   "source": [
    "from tensorflow.keras.utils import plot_model\n",
    "plot_model(model,show_shapes=True)"
   ]
  },
  {
   "cell_type": "markdown",
   "id": "7640a104",
   "metadata": {},
   "source": [
    "### Visualizing the predictions"
   ]
  },
  {
   "cell_type": "code",
   "execution_count": 71,
   "id": "3f8fd3a3",
   "metadata": {},
   "outputs": [
    {
     "name": "stdout",
     "output_type": "stream",
     "text": [
      "1/1 [==============================] - 0s 31ms/step\n"
     ]
    }
   ],
   "source": [
    "y_preds=model.predict(X)"
   ]
  },
  {
   "cell_type": "code",
   "execution_count": 72,
   "id": "23df12a0",
   "metadata": {},
   "outputs": [
    {
     "data": {
      "text/plain": [
       "array([[-10.982939  ],\n",
       "       [ -5.890251  ],\n",
       "       [ -0.79756325],\n",
       "       [  4.295125  ],\n",
       "       [  9.387814  ],\n",
       "       [ 14.480501  ],\n",
       "       [ 19.573189  ],\n",
       "       [ 24.665876  ]], dtype=float32)"
      ]
     },
     "execution_count": 72,
     "metadata": {},
     "output_type": "execute_result"
    }
   ],
   "source": [
    "y_preds"
   ]
  },
  {
   "cell_type": "code",
   "execution_count": 73,
   "id": "4f7d41fe",
   "metadata": {},
   "outputs": [],
   "source": [
    "def plot_predictions(train_data=X,train_labels=y,test_data=X,test_labels=y,predictions=y_preds):\n",
    "    plt.figure(figsize=(10,7))\n",
    "    plt.scatter(train_data,train_labels)\n",
    "    plt.scatter(test_data,test_labels)\n",
    "    plt.scatter(test_data,predictions)\n",
    "    plt.legend();"
   ]
  },
  {
   "cell_type": "code",
   "execution_count": 74,
   "id": "af162fea",
   "metadata": {},
   "outputs": [
    {
     "name": "stderr",
     "output_type": "stream",
     "text": [
      "C:\\Users\\alok4\\AppData\\Local\\Temp\\ipykernel_26444\\2981448840.py:6: UserWarning: No artists with labels found to put in legend.  Note that artists whose label start with an underscore are ignored when legend() is called with no argument.\n",
      "  plt.legend();\n"
     ]
    },
    {
     "data": {
      "image/png": "[encoded data removed]",
      "text/plain": [
       "<Figure size 1000x700 with 1 Axes>"
      ]
     },
     "metadata": {},
     "output_type": "display_data"
    }
   ],
   "source": [
    "plot_predictions()"
   ]
  },
  {
   "cell_type": "code",
   "execution_count": 75,
   "id": "8f378bd0",
   "metadata": {},
   "outputs": [
    {
     "name": "stdout",
     "output_type": "stream",
     "text": [
      "1/1 [==============================] - 0s 84ms/step - loss: 6.8250 - mae: 6.8250\n"
     ]
    },
    {
     "data": {
      "text/plain": [
       "[6.825000286102295, 6.825000286102295]"
      ]
     },
     "execution_count": 75,
     "metadata": {},
     "output_type": "execute_result"
    }
   ],
   "source": [
    "model.evaluate(X,y)"
   ]
  },
  {
   "cell_type": "code",
   "execution_count": 82,
   "id": "c0cd8bc9",
   "metadata": {},
   "outputs": [
    {
     "data": {
      "text/plain": [
       "<tf.Tensor: shape=(8,), dtype=float32, numpy=\n",
       "array([24.48294  , 19.390251 , 14.297564 ,  9.528657 ,  6.6530466,\n",
       "        6.       ,  7.5365944, 11.165876 ], dtype=float32)>"
      ]
     },
     "execution_count": 82,
     "metadata": {},
     "output_type": "execute_result"
    }
   ],
   "source": [
    "mae=tf.metrics.mean_absolute_error(y_true=y,y_pred=y_preds)\n",
    "mae"
   ]
  },
  {
   "cell_type": "markdown",
   "id": "24dc9271",
   "metadata": {},
   "source": [
    "MAE should be a single output\n",
    "- Instead, we get 10 values\n",
    "This is because our `y` and `y_preds` tensors are different shapes."
   ]
  },
  {
   "cell_type": "code",
   "execution_count": 77,
   "id": "e30bd110",
   "metadata": {},
   "outputs": [
    {
     "data": {
      "text/plain": [
       "array([ 3.,  6.,  9., 12., 15., 18., 21., 24.])"
      ]
     },
     "execution_count": 77,
     "metadata": {},
     "output_type": "execute_result"
    }
   ],
   "source": [
    "y"
   ]
  },
  {
   "cell_type": "code",
   "execution_count": 78,
   "id": "aff4c5c3",
   "metadata": {},
   "outputs": [
    {
     "data": {
      "text/plain": [
       "array([[-10.982939  ],\n",
       "       [ -5.890251  ],\n",
       "       [ -0.79756325],\n",
       "       [  4.295125  ],\n",
       "       [  9.387814  ],\n",
       "       [ 14.480501  ],\n",
       "       [ 19.573189  ],\n",
       "       [ 24.665876  ]], dtype=float32)"
      ]
     },
     "execution_count": 78,
     "metadata": {},
     "output_type": "execute_result"
    }
   ],
   "source": [
    "y_preds"
   ]
  },
  {
   "cell_type": "code",
   "execution_count": 79,
   "id": "e5f8400d",
   "metadata": {},
   "outputs": [
    {
     "data": {
      "text/plain": [
       "((8,), (8, 1))"
      ]
     },
     "execution_count": 79,
     "metadata": {},
     "output_type": "execute_result"
    }
   ],
   "source": [
    "y.shape,y_preds.shape"
   ]
  },
  {
   "cell_type": "markdown",
   "id": "b2ee8573",
   "metadata": {},
   "source": [
    "We can fix it using `squeeze()`, it'll remove the 1 dimension "
   ]
  },
  {
   "cell_type": "code",
   "execution_count": 80,
   "id": "e4ba1678",
   "metadata": {},
   "outputs": [
    {
     "data": {
      "text/plain": [
       "(8,)"
      ]
     },
     "execution_count": 80,
     "metadata": {},
     "output_type": "execute_result"
    }
   ],
   "source": [
    "y_preds.squeeze().shape"
   ]
  },
  {
   "cell_type": "code",
   "execution_count": 81,
   "id": "412cddc5",
   "metadata": {},
   "outputs": [
    {
     "data": {
      "text/plain": [
       "(8,)"
      ]
     },
     "execution_count": 81,
     "metadata": {},
     "output_type": "execute_result"
    }
   ],
   "source": [
    "y.squeeze().shape"
   ]
  },
  {
   "cell_type": "code",
   "execution_count": null,
   "id": "091824d0",
   "metadata": {},
   "outputs": [],
   "source": [
    "mae=tf.metrics.mean_absolute_error(y_true=y,y_pred=y_preds)"
   ]
  }
 ],
 "metadata": {
  "kernelspec": {
   "display_name": "Python 3",
   "language": "python",
   "name": "python3"
  },
  "language_info": {
   "codemirror_mode": {
    "name": "ipython",
    "version": 3
   },
   "file_extension": ".py",
   "mimetype": "text/x-python",
   "name": "python",
   "nbconvert_exporter": "python",
   "pygments_lexer": "ipython3",
   "version": "3.9.19"
  }
 },
 "nbformat": 4,
 "nbformat_minor": 5
}
