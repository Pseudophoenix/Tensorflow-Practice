{
 "cells": [
  {
   "cell_type": "markdown",
   "id": "e27b89a1",
   "metadata": {},
   "source": [
    "### Steps in Modelling\n",
    "\n",
    "1. Creating a model\n",
    "2. Compiling a model\n",
    "   1. Defining a loss function\n",
    "   2. Setting up an optimizer\n",
    "   3. Creating evaluation metrics\n",
    "3. Fitting a model\n",
    "\n",
    "* Evaluating a model\n",
    "    - Visualizing the model\n",
    "    - Looking at training curves\n",
    "    - Compare predictions to the ground truth\n",
    "\n",
    "- Saving a model\n",
    "- Loading a model"
   ]
  },
  {
   "cell_type": "markdown",
   "id": "bfbbe6e3",
   "metadata": {},
   "source": [
    "### Typical architecture of regression neural network\n",
    "\n",
    "\n",
    "- Input layer shape - same as shape\n",
    "- Hidden layer - min=1, max=unlimited\n",
    "- Neuron per hidden layer - generally 10 to 100\n",
    "- Output layer shape - same shape as desired prediction shape\n",
    "- Hidden activation - Usually ReLU(rectified linear unit)\n",
    "- Output activation - Nonne, ReLU, logistic/tanh\n",
    "- Loss function - MSE, MAE, Huber(combination of MSE and MAE)\n",
    "- Optimizer - SGD, Adam"
   ]
  },
  {
   "cell_type": "markdown",
   "id": "8c2c4ee5",
   "metadata": {},
   "source": [
    "### Creating data to view and fit"
   ]
  },
  {
   "cell_type": "code",
   "execution_count": 5,
   "id": "b91d9c37",
   "metadata": {},
   "outputs": [
    {
     "data": {
      "text/plain": [
       "<matplotlib.collections.PathCollection at 0x2648930abe0>"
      ]
     },
     "execution_count": 5,
     "metadata": {},
     "output_type": "execute_result"
    },
    {
     "data": {
      "image/png": "[encoded data removed]",
      "text/plain": [
       "<Figure size 640x480 with 1 Axes>"
      ]
     },
     "metadata": {},
     "output_type": "display_data"
    }
   ],
   "source": [
    "import numpy as np\n",
    "import matplotlib.pyplot as plt\n",
    "X=np.array([-7.0,-4.0,-1.5,3.0,6.0,7.2,11.3,14.0])\n",
    "# Create labels\n",
    "y = np.array([3.0, 6.0, 19.0, 22.0, 15.0, 18.0, 21.0, 24.0])\n",
    "plt.scatter(X,y)"
   ]
  },
  {
   "cell_type": "markdown",
   "id": "283b60c5",
   "metadata": {},
   "source": [
    "### Input and Output shapes\n"
   ]
  },
  {
   "cell_type": "markdown",
   "id": "853dbd88",
   "metadata": {},
   "source": [
    "### Steps in modelling with Tensorflow\n",
    "\n",
    "1. Creating a model-piece together the layers of a neural network (using the Functional or Sequential API) or import a previously build model(known as transfer learning)"
   ]
  },
  {
   "cell_type": "code",
   "execution_count": null,
   "id": "7664347a",
   "metadata": {},
   "outputs": [],
   "source": []
  }
 ],
 "metadata": {
  "kernelspec": {
   "display_name": "Python 3",
   "language": "python",
   "name": "python3"
  },
  "language_info": {
   "codemirror_mode": {
    "name": "ipython",
    "version": 3
   },
   "file_extension": ".py",
   "mimetype": "text/x-python",
   "name": "python",
   "nbconvert_exporter": "python",
   "pygments_lexer": "ipython3",
   "version": "3.9.19"
  }
 },
 "nbformat": 4,
 "nbformat_minor": 5
}
