{
 "cells": [
  {
   "cell_type": "code",
   "execution_count": 6,
   "id": "38d9d537",
   "metadata": {},
   "outputs": [],
   "source": [
    "import tensorflow as tf"
   ]
  },
  {
   "cell_type": "markdown",
   "id": "e27b89a1",
   "metadata": {},
   "source": [
    "### Steps in Modelling\n",
    "\n",
    "1. Creating a model\n",
    "2. Compiling a model\n",
    "   1. Defining a loss function\n",
    "   2. Setting up an optimizer\n",
    "   3. Creating evaluation metrics\n",
    "3. Fitting a model\n",
    "\n",
    "* Evaluating a model\n",
    "    - Visualizing the model\n",
    "    - Looking at training curves\n",
    "    - Compare predictions to the ground truth\n",
    "\n",
    "- Saving a model\n",
    "- Loading a model"
   ]
  },
  {
   "cell_type": "markdown",
   "id": "bfbbe6e3",
   "metadata": {},
   "source": [
    "### Typical architecture of regression neural network\n",
    "\n",
    "\n",
    "- Input layer shape - same as shape\n",
    "- Hidden layer - min=1, max=unlimited\n",
    "- Neuron per hidden layer - generally 10 to 100\n",
    "- Output layer shape - same shape as desired prediction shape\n",
    "- Hidden activation - Usually ReLU(rectified linear unit)\n",
    "- Output activation - Nonne, ReLU, logistic/tanh\n",
    "- Loss function - MSE, MAE, Huber(combination of MSE and MAE)\n",
    "- Optimizer - SGD, Adam"
   ]
  },
  {
   "cell_type": "markdown",
   "id": "8c2c4ee5",
   "metadata": {},
   "source": [
    "### Creating data to view and fit"
   ]
  },
  {
   "cell_type": "code",
   "execution_count": 14,
   "id": "b91d9c37",
   "metadata": {},
   "outputs": [
    {
     "data": {
      "text/plain": [
       "<matplotlib.collections.PathCollection at 0x2649c1d4280>"
      ]
     },
     "execution_count": 14,
     "metadata": {},
     "output_type": "execute_result"
    },
    {
     "data": {
      "image/png": "[encoded data removed]",
      "text/plain": [
       "<Figure size 640x480 with 1 Axes>"
      ]
     },
     "metadata": {},
     "output_type": "display_data"
    }
   ],
   "source": [
    "import numpy as np\n",
    "import matplotlib.pyplot as plt\n",
    "X=np.array([-7.0,-4.0,-1.0,2.0,5.0,8.0,11.0,14.0])\n",
    "# Create labels\n",
    "y = np.array([3.0, 6.0, 9.0, 12.0, 15.0, 18.0, 21.0, 24.0])\n",
    "\n",
    "# X=np.array([-7.0,-4.0,-1.5,3.0,6.0,7.2,11.3,14.0])\n",
    "# # Create labels\n",
    "# y = np.array([3.0, 6.0, 19.0, 22.0, 15.0, 18.0, 21.0, 24.0])\n",
    "plt.scatter(X,y)"
   ]
  },
  {
   "cell_type": "markdown",
   "id": "283b60c5",
   "metadata": {},
   "source": [
    "### Input and Output shapes\n"
   ]
  },
  {
   "cell_type": "markdown",
   "id": "853dbd88",
   "metadata": {},
   "source": [
    "### Steps in modelling with Tensorflow\n",
    "\n",
    "1. Creating a model-piece together the layers of a neural network (using the Functional or Sequential API) or import a previously build model(known as transfer learning).\n",
    "2. Compiling a model-defining how a model's performance should be measured (loss/metrics) as well as definig how it should improve(optimizer).\n",
    "3. Fitting a model-letting the model try to find patterns in the data."
   ]
  },
  {
   "cell_type": "code",
   "execution_count": 40,
   "id": "7664347a",
   "metadata": {},
   "outputs": [
    {
     "name": "stdout",
     "output_type": "stream",
     "text": [
      "Epoch 1/5\n",
      "1/1 [==============================] - 0s 148ms/step - loss: 15.0748 - mae: 15.0748\n",
      "Epoch 2/5\n",
      "1/1 [==============================] - 0s 3ms/step - loss: 14.8586 - mae: 14.8586\n",
      "Epoch 3/5\n",
      "1/1 [==============================] - 0s 3ms/step - loss: 14.7261 - mae: 14.7261\n",
      "Epoch 4/5\n",
      "1/1 [==============================] - 0s 3ms/step - loss: 14.5936 - mae: 14.5936\n",
      "Epoch 5/5\n",
      "1/1 [==============================] - 0s 4ms/step - loss: 14.4611 - mae: 14.4611\n"
     ]
    },
    {
     "data": {
      "text/plain": [
       "<keras.src.callbacks.History at 0x2649f025040>"
      ]
     },
     "execution_count": 40,
     "metadata": {},
     "output_type": "execute_result"
    }
   ],
   "source": [
    "tf.random.set_seed(42)\n",
    "model=tf.keras.Sequential([\n",
    "    tf.keras.layers.Dense(1),\n",
    "])\n",
    "model.compile(loss=tf.keras.losses.mae,\n",
    "              optimizer=tf.keras.optimizers.SGD(),\n",
    "              metrics=[\"mae\"])\n",
    "model.fit(tf.expand_dims(X,axis=-1),y,epochs=5)"
   ]
  },
  {
   "cell_type": "code",
   "execution_count": 42,
   "id": "a6c088e6",
   "metadata": {},
   "outputs": [
    {
     "data": {
      "text/plain": [
       "(array([-7., -4., -1.,  2.,  5.,  8., 11., 14.]),\n",
       " array([ 3.,  6.,  9., 12., 15., 18., 21., 24.]))"
      ]
     },
     "execution_count": 42,
     "metadata": {},
     "output_type": "execute_result"
    }
   ],
   "source": [
    "X,y"
   ]
  },
  {
   "cell_type": "code",
   "execution_count": 44,
   "id": "ef46300e",
   "metadata": {},
   "outputs": [
    {
     "name": "stdout",
     "output_type": "stream",
     "text": [
      "1/1 [==============================] - 0s 16ms/step\n",
      "1/1 [==============================] - 0s 31ms/step\n"
     ]
    },
    {
     "data": {
      "text/plain": [
       "(array([[ 1.7997364 ],\n",
       "        [ 1.0487779 ],\n",
       "        [ 0.2978195 ],\n",
       "        [-0.45313895],\n",
       "        [-1.2040974 ],\n",
       "        [-1.9550558 ],\n",
       "        [-2.7060144 ],\n",
       "        [-3.4569728 ]], dtype=float32),\n",
       " array([[-4.207931]], dtype=float32))"
      ]
     },
     "execution_count": 44,
     "metadata": {},
     "output_type": "execute_result"
    }
   ],
   "source": [
    "model.predict(X),model.predict([17.0])"
   ]
  },
  {
   "cell_type": "markdown",
   "id": "c4af91f0",
   "metadata": {},
   "source": [
    "### Improving a model\n",
    "To improve our model, we alter almost every part of 3 steps we went through:\n",
    "1. Creating a model-`add more layers`, increase the `number of hidden units(also called neurons) within each layer`, change the `activation functions of each layer`.\n",
    "2. Compiling the model-choose `optimization function` or change the `learning rate` of the optimization function.\n",
    "3. Fitting a model-fit the model for more `epochs`(leave it training for longer) or on `more data`(give the model more examples to learn from).\n",
    "\n",
    "\n",
    "\n",
    "![various options you can use to improve a neural network model](https://raw.githubusercontent.com/mrdbourke/tensorflow-deep-learning/main/images/02-improving-a-model-from-model-perspective.png)\n",
    "\n",
    "Some of the most common include: increasing the number of layers (making the network deeper), increasing the number of hidden units (making the network wider) and changing the learning rate. Because these values are all human-changeable, they're referred to as [hyperparameters](https://en.wikipedia.org/wiki/Hyperparameter_(machine_learning)) and the practice of trying to find the best hyperparameters is referred to as [hyperparameter tuning](https://en.wikipedia.org/wiki/Hyperparameter_optimization).*\n"
   ]
  },
  {
   "cell_type": "markdown",
   "id": "415e24a8",
   "metadata": {},
   "source": [
    "### Training for longer - more epochs"
   ]
  },
  {
   "cell_type": "code",
   "execution_count": 45,
   "id": "91113579",
   "metadata": {},
   "outputs": [
    {
     "name": "stdout",
     "output_type": "stream",
     "text": [
      "Epoch 1/100\n",
      "1/1 [==============================] - 0s 154ms/step - loss: 14.6023 - mae: 14.6023\n",
      "Epoch 2/100\n",
      "1/1 [==============================] - 0s 4ms/step - loss: 14.4698 - mae: 14.4698\n",
      "Epoch 3/100\n",
      "1/1 [==============================] - 0s 4ms/step - loss: 14.3373 - mae: 14.3373\n",
      "Epoch 4/100\n",
      "1/1 [==============================] - 0s 4ms/step - loss: 14.2048 - mae: 14.2048\n",
      "Epoch 5/100\n",
      "1/1 [==============================] - 0s 4ms/step - loss: 14.0723 - mae: 14.0723\n",
      "Epoch 6/100\n",
      "1/1 [==============================] - 0s 5ms/step - loss: 13.9398 - mae: 13.9398\n",
      "Epoch 7/100\n",
      "1/1 [==============================] - 0s 4ms/step - loss: 13.8073 - mae: 13.8073\n",
      "Epoch 8/100\n",
      "1/1 [==============================] - 0s 5ms/step - loss: 13.6748 - mae: 13.6748\n",
      "Epoch 9/100\n",
      "1/1 [==============================] - 0s 4ms/step - loss: 13.5423 - mae: 13.5423\n",
      "Epoch 10/100\n",
      "1/1 [==============================] - 0s 4ms/step - loss: 13.4098 - mae: 13.4098\n",
      "Epoch 11/100\n",
      "1/1 [==============================] - 0s 6ms/step - loss: 13.2773 - mae: 13.2773\n",
      "Epoch 12/100\n",
      "1/1 [==============================] - 0s 7ms/step - loss: 13.1448 - mae: 13.1448\n",
      "Epoch 13/100\n",
      "1/1 [==============================] - 0s 5ms/step - loss: 13.0123 - mae: 13.0123\n",
      "Epoch 14/100\n",
      "1/1 [==============================] - 0s 3ms/step - loss: 12.8798 - mae: 12.8798\n",
      "Epoch 15/100\n",
      "1/1 [==============================] - 0s 5ms/step - loss: 12.7473 - mae: 12.7473\n",
      "Epoch 16/100\n",
      "1/1 [==============================] - 0s 4ms/step - loss: 12.6148 - mae: 12.6148\n",
      "Epoch 17/100\n",
      "1/1 [==============================] - 0s 3ms/step - loss: 12.4823 - mae: 12.4823\n",
      "Epoch 18/100\n",
      "1/1 [==============================] - 0s 4ms/step - loss: 12.3498 - mae: 12.3498\n",
      "Epoch 19/100\n",
      "1/1 [==============================] - 0s 6ms/step - loss: 12.2173 - mae: 12.2173\n",
      "Epoch 20/100\n",
      "1/1 [==============================] - 0s 4ms/step - loss: 12.0848 - mae: 12.0848\n",
      "Epoch 21/100\n",
      "1/1 [==============================] - 0s 5ms/step - loss: 11.9523 - mae: 11.9523\n",
      "Epoch 22/100\n",
      "1/1 [==============================] - 0s 5ms/step - loss: 11.8198 - mae: 11.8198\n",
      "Epoch 23/100\n",
      "1/1 [==============================] - 0s 4ms/step - loss: 11.6873 - mae: 11.6873\n",
      "Epoch 24/100\n",
      "1/1 [==============================] - 0s 4ms/step - loss: 11.5548 - mae: 11.5548\n",
      "Epoch 25/100\n",
      "1/1 [==============================] - 0s 4ms/step - loss: 11.4223 - mae: 11.4223\n",
      "Epoch 26/100\n",
      "1/1 [==============================] - 0s 5ms/step - loss: 11.2898 - mae: 11.2898\n",
      "Epoch 27/100\n",
      "1/1 [==============================] - 0s 5ms/step - loss: 11.1573 - mae: 11.1573\n",
      "Epoch 28/100\n",
      "1/1 [==============================] - 0s 4ms/step - loss: 11.0248 - mae: 11.0248\n",
      "Epoch 29/100\n",
      "1/1 [==============================] - 0s 4ms/step - loss: 10.8923 - mae: 10.8923\n",
      "Epoch 30/100\n",
      "1/1 [==============================] - 0s 6ms/step - loss: 10.7598 - mae: 10.7598\n",
      "Epoch 31/100\n",
      "1/1 [==============================] - 0s 6ms/step - loss: 10.6273 - mae: 10.6273\n",
      "Epoch 32/100\n",
      "1/1 [==============================] - 0s 5ms/step - loss: 10.4948 - mae: 10.4948\n",
      "Epoch 33/100\n",
      "1/1 [==============================] - 0s 5ms/step - loss: 10.3623 - mae: 10.3623\n",
      "Epoch 34/100\n",
      "1/1 [==============================] - 0s 5ms/step - loss: 10.2298 - mae: 10.2298\n",
      "Epoch 35/100\n",
      "1/1 [==============================] - 0s 5ms/step - loss: 10.0973 - mae: 10.0973\n",
      "Epoch 36/100\n",
      "1/1 [==============================] - 0s 7ms/step - loss: 9.9648 - mae: 9.9648\n",
      "Epoch 37/100\n",
      "1/1 [==============================] - 0s 8ms/step - loss: 9.8323 - mae: 9.8323\n",
      "Epoch 38/100\n",
      "1/1 [==============================] - 0s 7ms/step - loss: 9.6998 - mae: 9.6998\n",
      "Epoch 39/100\n",
      "1/1 [==============================] - 0s 7ms/step - loss: 9.5673 - mae: 9.5673\n",
      "Epoch 40/100\n",
      "1/1 [==============================] - 0s 9ms/step - loss: 9.4348 - mae: 9.4348\n",
      "Epoch 41/100\n",
      "1/1 [==============================] - 0s 6ms/step - loss: 9.3023 - mae: 9.3023\n",
      "Epoch 42/100\n",
      "1/1 [==============================] - 0s 6ms/step - loss: 9.1698 - mae: 9.1698\n",
      "Epoch 43/100\n",
      "1/1 [==============================] - 0s 6ms/step - loss: 9.0373 - mae: 9.0373\n",
      "Epoch 44/100\n",
      "1/1 [==============================] - 0s 5ms/step - loss: 8.9048 - mae: 8.9048\n",
      "Epoch 45/100\n",
      "1/1 [==============================] - 0s 8ms/step - loss: 8.7723 - mae: 8.7723\n",
      "Epoch 46/100\n",
      "1/1 [==============================] - 0s 5ms/step - loss: 8.6398 - mae: 8.6398\n",
      "Epoch 47/100\n",
      "1/1 [==============================] - 0s 5ms/step - loss: 8.5073 - mae: 8.5073\n",
      "Epoch 48/100\n",
      "1/1 [==============================] - 0s 4ms/step - loss: 8.3748 - mae: 8.3748\n",
      "Epoch 49/100\n",
      "1/1 [==============================] - 0s 5ms/step - loss: 8.2423 - mae: 8.2423\n",
      "Epoch 50/100\n",
      "1/1 [==============================] - 0s 7ms/step - loss: 8.1098 - mae: 8.1098\n",
      "Epoch 51/100\n",
      "1/1 [==============================] - 0s 7ms/step - loss: 7.9773 - mae: 7.9773\n",
      "Epoch 52/100\n",
      "1/1 [==============================] - 0s 5ms/step - loss: 7.8448 - mae: 7.8448\n",
      "Epoch 53/100\n",
      "1/1 [==============================] - 0s 7ms/step - loss: 7.7123 - mae: 7.7123\n",
      "Epoch 54/100\n",
      "1/1 [==============================] - 0s 6ms/step - loss: 7.5798 - mae: 7.5798\n",
      "Epoch 55/100\n",
      "1/1 [==============================] - 0s 6ms/step - loss: 7.4473 - mae: 7.4473\n",
      "Epoch 56/100\n",
      "1/1 [==============================] - 0s 6ms/step - loss: 7.3148 - mae: 7.3148\n",
      "Epoch 57/100\n",
      "1/1 [==============================] - 0s 6ms/step - loss: 7.1823 - mae: 7.1823\n",
      "Epoch 58/100\n",
      "1/1 [==============================] - 0s 7ms/step - loss: 7.0725 - mae: 7.0725\n",
      "Epoch 59/100\n",
      "1/1 [==============================] - 0s 7ms/step - loss: 7.0669 - mae: 7.0669\n",
      "Epoch 60/100\n",
      "1/1 [==============================] - 0s 5ms/step - loss: 7.0612 - mae: 7.0612\n",
      "Epoch 61/100\n",
      "1/1 [==============================] - 0s 6ms/step - loss: 7.0556 - mae: 7.0556\n",
      "Epoch 62/100\n",
      "1/1 [==============================] - 0s 6ms/step - loss: 7.0500 - mae: 7.0500\n",
      "Epoch 63/100\n",
      "1/1 [==============================] - 0s 6ms/step - loss: 7.0444 - mae: 7.0444\n",
      "Epoch 64/100\n",
      "1/1 [==============================] - 0s 6ms/step - loss: 7.0388 - mae: 7.0388\n",
      "Epoch 65/100\n",
      "1/1 [==============================] - 0s 5ms/step - loss: 7.0331 - mae: 7.0331\n",
      "Epoch 66/100\n",
      "1/1 [==============================] - 0s 4ms/step - loss: 7.0275 - mae: 7.0275\n",
      "Epoch 67/100\n",
      "1/1 [==============================] - 0s 5ms/step - loss: 7.0219 - mae: 7.0219\n",
      "Epoch 68/100\n",
      "1/1 [==============================] - 0s 6ms/step - loss: 7.0163 - mae: 7.0163\n",
      "Epoch 69/100\n",
      "1/1 [==============================] - 0s 5ms/step - loss: 7.0106 - mae: 7.0106\n",
      "Epoch 70/100\n",
      "1/1 [==============================] - 0s 6ms/step - loss: 7.0050 - mae: 7.0050\n",
      "Epoch 71/100\n",
      "1/1 [==============================] - 0s 4ms/step - loss: 6.9994 - mae: 6.9994\n",
      "Epoch 72/100\n",
      "1/1 [==============================] - 0s 4ms/step - loss: 6.9938 - mae: 6.9938\n",
      "Epoch 73/100\n",
      "1/1 [==============================] - 0s 3ms/step - loss: 6.9881 - mae: 6.9881\n",
      "Epoch 74/100\n",
      "1/1 [==============================] - 0s 3ms/step - loss: 6.9825 - mae: 6.9825\n",
      "Epoch 75/100\n",
      "1/1 [==============================] - 0s 4ms/step - loss: 6.9769 - mae: 6.9769\n",
      "Epoch 76/100\n",
      "1/1 [==============================] - 0s 5ms/step - loss: 6.9713 - mae: 6.9713\n",
      "Epoch 77/100\n",
      "1/1 [==============================] - 0s 3ms/step - loss: 6.9656 - mae: 6.9656\n",
      "Epoch 78/100\n",
      "1/1 [==============================] - 0s 5ms/step - loss: 6.9600 - mae: 6.9600\n",
      "Epoch 79/100\n",
      "1/1 [==============================] - 0s 5ms/step - loss: 6.9544 - mae: 6.9544\n",
      "Epoch 80/100\n",
      "1/1 [==============================] - 0s 5ms/step - loss: 6.9488 - mae: 6.9488\n",
      "Epoch 81/100\n",
      "1/1 [==============================] - 0s 4ms/step - loss: 6.9431 - mae: 6.9431\n",
      "Epoch 82/100\n",
      "1/1 [==============================] - 0s 4ms/step - loss: 6.9375 - mae: 6.9375\n",
      "Epoch 83/100\n",
      "1/1 [==============================] - 0s 4ms/step - loss: 6.9319 - mae: 6.9319\n",
      "Epoch 84/100\n",
      "1/1 [==============================] - 0s 6ms/step - loss: 6.9263 - mae: 6.9263\n",
      "Epoch 85/100\n",
      "1/1 [==============================] - 0s 4ms/step - loss: 6.9206 - mae: 6.9206\n",
      "Epoch 86/100\n",
      "1/1 [==============================] - 0s 5ms/step - loss: 6.9150 - mae: 6.9150\n",
      "Epoch 87/100\n",
      "1/1 [==============================] - 0s 4ms/step - loss: 6.9094 - mae: 6.9094\n",
      "Epoch 88/100\n",
      "1/1 [==============================] - 0s 3ms/step - loss: 6.9038 - mae: 6.9038\n",
      "Epoch 89/100\n",
      "1/1 [==============================] - 0s 4ms/step - loss: 6.8981 - mae: 6.8981\n",
      "Epoch 90/100\n",
      "1/1 [==============================] - 0s 5ms/step - loss: 6.8925 - mae: 6.8925\n",
      "Epoch 91/100\n",
      "1/1 [==============================] - 0s 5ms/step - loss: 6.8869 - mae: 6.8869\n",
      "Epoch 92/100\n",
      "1/1 [==============================] - 0s 4ms/step - loss: 6.8813 - mae: 6.8813\n",
      "Epoch 93/100\n",
      "1/1 [==============================] - 0s 4ms/step - loss: 6.8756 - mae: 6.8756\n",
      "Epoch 94/100\n",
      "1/1 [==============================] - 0s 3ms/step - loss: 6.8700 - mae: 6.8700\n",
      "Epoch 95/100\n",
      "1/1 [==============================] - 0s 6ms/step - loss: 6.8644 - mae: 6.8644\n",
      "Epoch 96/100\n",
      "1/1 [==============================] - 0s 5ms/step - loss: 6.8588 - mae: 6.8588\n",
      "Epoch 97/100\n",
      "1/1 [==============================] - 0s 6ms/step - loss: 6.8531 - mae: 6.8531\n",
      "Epoch 98/100\n",
      "1/1 [==============================] - 0s 6ms/step - loss: 6.8475 - mae: 6.8475\n",
      "Epoch 99/100\n",
      "1/1 [==============================] - 0s 5ms/step - loss: 6.8419 - mae: 6.8419\n",
      "Epoch 100/100\n",
      "1/1 [==============================] - 0s 5ms/step - loss: 6.8363 - mae: 6.8363\n"
     ]
    },
    {
     "data": {
      "text/plain": [
       "<keras.src.callbacks.History at 0x2649f0d5400>"
      ]
     },
     "execution_count": 45,
     "metadata": {},
     "output_type": "execute_result"
    }
   ],
   "source": [
    "tf.random.set_seed(42)\n",
    "\n",
    "model=tf.keras.Sequential([\n",
    "    tf.keras.layers.Dense(1)\n",
    "])\n",
    "\n",
    "model.compile(loss=tf.keras.losses.mae,\n",
    "              optimizer=tf.keras.optimizers.SGD(),\n",
    "              metrics=['mae'])\n",
    "model.fit(tf.expand_dims(X,axis=-1),y,epochs=100)"
   ]
  },
  {
   "cell_type": "code",
   "execution_count": 46,
   "id": "a86ebbe8",
   "metadata": {},
   "outputs": [
    {
     "data": {
      "text/plain": [
       "(array([-7., -4., -1.,  2.,  5.,  8., 11., 14.]),\n",
       " array([ 3.,  6.,  9., 12., 15., 18., 21., 24.]))"
      ]
     },
     "execution_count": 46,
     "metadata": {},
     "output_type": "execute_result"
    }
   ],
   "source": [
    "X,y"
   ]
  },
  {
   "cell_type": "code",
   "execution_count": 47,
   "id": "dad6b27c",
   "metadata": {},
   "outputs": [
    {
     "name": "stdout",
     "output_type": "stream",
     "text": [
      "1/1 [==============================] - 0s 36ms/step\n",
      "1/1 [==============================] - 0s 28ms/step\n"
     ]
    },
    {
     "data": {
      "text/plain": [
       "(array([[-10.867907 ],\n",
       "        [ -5.827733 ],\n",
       "        [ -0.7875587],\n",
       "        [  4.252616 ],\n",
       "        [  9.292789 ],\n",
       "        [ 14.332964 ],\n",
       "        [ 19.373138 ],\n",
       "        [ 24.413313 ]], dtype=float32),\n",
       " array([[29.453487]], dtype=float32))"
      ]
     },
     "execution_count": 47,
     "metadata": {},
     "output_type": "execute_result"
    }
   ],
   "source": [
    "model.predict(X),model.predict([17.0])"
   ]
  },
  {
   "cell_type": "markdown",
   "id": "e48a194a",
   "metadata": {},
   "source": [
    "### Evaluating a model\n",
    "\n",
    "Typical workflow when building a neural network is:\n",
    "\n",
    "```\n",
    "Build a model->evaluate it->build(tweak) a model->evaluate it->build(tweak) a model->evaluate it....\n",
    "```\n",
    "\n",
    "*Evaluation means visualization*\n",
    "\n",
    "Viualize:\n",
    "1. The data\n",
    "2. The model itself\n",
    "3. The training of a model\n",
    "4. The predictions of a model\n",
    "   "
   ]
  },
  {
   "cell_type": "markdown",
   "id": "dc63368d",
   "metadata": {},
   "source": [
    "### Visualizing the model"
   ]
  },
  {
   "cell_type": "code",
   "execution_count": null,
   "id": "baa85881",
   "metadata": {},
   "outputs": [],
   "source": [
    "tf.random.set_seed(42)\n",
    "model=tf.keras.Sequential([\n",
    "    tf.keras.layers.Dense(1)\n",
    "])\n",
    "\n",
    "model.compile(loss=tf.keras.losses.mae,\n",
    "              optimizer=tf.keras.optimizers.SGD(),\n",
    "              metrics=['mae'])\n"
   ]
  },
  {
   "cell_type": "markdown",
   "id": "2e26e0eb",
   "metadata": {},
   "source": [
    "If we try to visualize/summarize the model before building still it needs to know the `input_shape`.\n",
    "\n",
    "We haven't told it what input shape it should be expecting.\n",
    "We can let our model know the shape of our data using the `input_shape` parameter to the first layer (usually if `input_shape` is not defined, Keras tries to figure it out automatically)"
   ]
  },
  {
   "cell_type": "code",
   "execution_count": 62,
   "id": "323dc2e8",
   "metadata": {},
   "outputs": [],
   "source": [
    "tf.random.set_seed(42)\n",
    "model=tf.keras.Sequential([\n",
    "    tf.keras.layers.Dense(1,input_shape=[1])\n",
    "])\n",
    "\n",
    "model.compile(loss=tf.keras.losses.mae,\n",
    "              optimizer=tf.keras.optimizers.SGD(),\n",
    "              metrics=['mae'])\n"
   ]
  },
  {
   "cell_type": "code",
   "execution_count": 63,
   "id": "f72d9e6b",
   "metadata": {},
   "outputs": [
    {
     "name": "stdout",
     "output_type": "stream",
     "text": [
      "Model: \"sequential_20\"\n",
      "_________________________________________________________________\n",
      " Layer (type)                Output Shape              Param #   \n",
      "=================================================================\n",
      " dense_29 (Dense)            (None, 1)                 2         \n",
      "                                                                 \n",
      "=================================================================\n",
      "Total params: 2 (8.00 Byte)\n",
      "Trainable params: 2 (8.00 Byte)\n",
      "Non-trainable params: 0 (0.00 Byte)\n",
      "_________________________________________________________________\n"
     ]
    }
   ],
   "source": [
    "model.summary()"
   ]
  },
  {
   "cell_type": "markdown",
   "id": "48521564",
   "metadata": {},
   "source": [
    "Calling `summary()` on our model show us the layers it contains, the output shape and the number of parameters.\n"
   ]
  },
  {
   "cell_type": "code",
   "execution_count": 65,
   "id": "3f22b224",
   "metadata": {},
   "outputs": [
    {
     "data": {
      "text/plain": [
       "<keras.src.callbacks.History at 0x264a04078e0>"
      ]
     },
     "execution_count": 65,
     "metadata": {},
     "output_type": "execute_result"
    }
   ],
   "source": [
    "model.fit(X,y,epochs=100,verbose=0)"
   ]
  },
  {
   "cell_type": "code",
   "execution_count": 66,
   "id": "2dedb419",
   "metadata": {},
   "outputs": [
    {
     "name": "stdout",
     "output_type": "stream",
     "text": [
      "Model: \"sequential_20\"\n",
      "_________________________________________________________________\n",
      " Layer (type)                Output Shape              Param #   \n",
      "=================================================================\n",
      " dense_29 (Dense)            (None, 1)                 2         \n",
      "                                                                 \n",
      "=================================================================\n",
      "Total params: 2 (8.00 Byte)\n",
      "Trainable params: 2 (8.00 Byte)\n",
      "Non-trainable params: 0 (0.00 Byte)\n",
      "_________________________________________________________________\n"
     ]
    }
   ],
   "source": [
    "model.summary()"
   ]
  },
  {
   "cell_type": "markdown",
   "id": "e6f88cd0",
   "metadata": {},
   "source": [
    "Alonside summary, we can also view a 2D plot of the model using `plot_model()`"
   ]
  },
  {
   "cell_type": "code",
   "execution_count": null,
   "id": "1cfcf217",
   "metadata": {},
   "outputs": [],
   "source": []
  }
 ],
 "metadata": {
  "kernelspec": {
   "display_name": "Python 3",
   "language": "python",
   "name": "python3"
  },
  "language_info": {
   "codemirror_mode": {
    "name": "ipython",
    "version": 3
   },
   "file_extension": ".py",
   "mimetype": "text/x-python",
   "name": "python",
   "nbconvert_exporter": "python",
   "pygments_lexer": "ipython3",
   "version": "3.9.19"
  }
 },
 "nbformat": 4,
 "nbformat_minor": 5
}
