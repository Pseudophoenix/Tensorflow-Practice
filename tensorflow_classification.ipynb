{
 "cells": [
  {
   "cell_type": "markdown",
   "id": "d3efbb0b",
   "metadata": {},
   "source": [
    "Steps in modelling for binary and multiclass classification:\n",
    "* Creating a model\n",
    "* Compiling a model\n",
    "  * Defining a loss function\n",
    "  * Setting up an optimizer\n",
    "      * Finding the best learning rate\n",
    "  * Creating evaluation metrics\n",
    "* Fitting a model(getting it to find patterns in our data)\n",
    "* Improving a model\n",
    "  \n",
    "The power of non-linearity\n",
    "Evaluating classification models\n",
    "  * Visualizing the model\n",
    "  * Looking at training curves\n",
    "  * Compare predictions to ground truth(using our evaluation metrics)"
   ]
  },
  {
   "cell_type": "code",
   "execution_count": 1,
   "id": "8795e846",
   "metadata": {},
   "outputs": [],
   "source": [
    "import tensorflow as tf"
   ]
  },
  {
   "cell_type": "markdown",
   "id": "d60e3a5a",
   "metadata": {},
   "source": []
  }
 ],
 "metadata": {
  "kernelspec": {
   "display_name": "base",
   "language": "python",
   "name": "python3"
  },
  "language_info": {
   "codemirror_mode": {
    "name": "ipython",
    "version": 3
   },
   "file_extension": ".py",
   "mimetype": "text/x-python",
   "name": "python",
   "nbconvert_exporter": "python",
   "pygments_lexer": "ipython3",
   "version": "3.9.19"
  }
 },
 "nbformat": 4,
 "nbformat_minor": 5
}
