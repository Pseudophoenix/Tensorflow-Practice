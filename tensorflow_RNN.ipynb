{
 "cells": [
  {
   "cell_type": "code",
   "execution_count": 6,
   "id": "d2fe8f3f",
   "metadata": {},
   "outputs": [],
   "source": [
    "from __future__ import print_function\n",
    "from keras.layers import LSTMCell\n",
    "import tensorflow as tf"
   ]
  },
  {
   "cell_type": "code",
   "execution_count": null,
   "id": "26580825",
   "metadata": {},
   "outputs": [],
   "source": [
    "from tensorflow.keras.datasets import mnist\n",
    "(X_train,y_train),(X_test,y_test)=mnist.load_data()\n"
   ]
  },
  {
   "cell_type": "code",
   "execution_count": 11,
   "id": "398b39b4",
   "metadata": {},
   "outputs": [],
   "source": [
    "n_input=28\n",
    "n_steps=28\n",
    "n_hidden=128\n",
    "n_classes=10\n",
    "x=tf.keras.Input(shape=(n_steps,n_input),dtype=tf.float32,name='x')\n",
    "y=tf.keras.Input(shape=(n_classes,),dtype=tf.float32,name='y')\n"
   ]
  },
  {
   "cell_type": "code",
   "execution_count": 12,
   "id": "07dd6e54",
   "metadata": {},
   "outputs": [],
   "source": [
    "weights={\n",
    "    'out':tf.Variable(tf.random.normal([n_hidden,n_classes]))\n",
    "}\n",
    "biases={\n",
    "    'out':tf.Variable(tf.random.normal([n_classes]))\n",
    "}"
   ]
  },
  {
   "cell_type": "code",
   "execution_count": null,
   "id": "6a615841",
   "metadata": {},
   "outputs": [],
   "source": [
    "from tensorflow.keras.layers import LSTM, Dense\n",
    "def RNN(X,weights,biases):\n",
    "    # X=tf.reshape(X,[-1,n_steps,n_input])\n",
    "    X=tf.unstack(X,axis=1)\n",
    "\n",
    "    lstm_layer=LSTM(n_hidden,return_sequences=False)\n",
    "    outputs=lstm_layer(X)\n",
    "    \n",
    "    return tf.matmul(outputs,weights['out']+biases['out'])\n",
    "def build_model():\n",
    "    model=tf.keras.Sequential([tf.keras.layers.Input(shape=(n_steps,n_input)),LSTM(n_hidden),Dense(n_classes,activation='softmax')])\n",
    "\n",
    "    model.compile(optimizer=tf.keras.optimizers.Adam(learning_rate=learning_rate),loss='categorical_crossentropy',metrics=['accuracy'])"
   ]
  },
  {
   "cell_type": "code",
   "execution_count": null,
   "id": "abe25679",
   "metadata": {},
   "outputs": [],
   "source": [
    "model=build_model()\n",
    "\n",
    "pred=RNN(x,weights,biases)\n",
    "\n",
    "loss_fn=tf.keras.losses.CategoricalCrossentropy(from_logits=True)\n",
    "cost=loss_fn(y,pred)\n",
    "\n",
    "optimizer=tf.keras.optimizers.Adam(learning_rate=learning_rate)\n",
    "train_op=optimizer.minimize(cost)\n",
    "\n",
    "correct_pred=tf.equal(tf.argmax(pred,1),tf.argmax(y,1))\n",
    "\n",
    "accuracy=tf.reduce_mean(tf.cast(correct_pred,tf.float32))"
   ]
  }
 ],
 "metadata": {
  "kernelspec": {
   "display_name": "Python 3",
   "language": "python",
   "name": "python3"
  },
  "language_info": {
   "codemirror_mode": {
    "name": "ipython",
    "version": 3
   },
   "file_extension": ".py",
   "mimetype": "text/x-python",
   "name": "python",
   "nbconvert_exporter": "python",
   "pygments_lexer": "ipython3",
   "version": "3.9.19"
  }
 },
 "nbformat": 4,
 "nbformat_minor": 5
}
